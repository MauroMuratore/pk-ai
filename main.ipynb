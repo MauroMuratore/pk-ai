{
 "cells": [
  {
   "cell_type": "code",
   "execution_count": 6,
   "metadata": {},
   "outputs": [],
   "source": [
    "from poke_env import AccountConfiguration\n",
    "from poke_env import RandomPlayer\n",
    "from poke_env.data import GenData"
   ]
  },
  {
   "cell_type": "code",
   "execution_count": 7,
   "metadata": {},
   "outputs": [],
   "source": [
    "random_player_conf = AccountConfiguration(\"random_1\", None)"
   ]
  },
  {
   "cell_type": "code",
   "execution_count": null,
   "metadata": {},
   "outputs": [
    {
     "name": "stderr",
     "output_type": "stream",
     "text": [
      "2025-03-16 21:50:39,638 - random_1 - CRITICAL - Error message received: |nametaken|random_1|Your authentication token was invalid.\n",
      "2025-03-16 21:50:39,639 - random_1 - ERROR - Unhandled exception raised while handling message:\n",
      "|nametaken|random_1|Your authentication token was invalid.\n",
      "Traceback (most recent call last):\n",
      "  File \"/home/mauro/workspace/PK-AI/pk-ai/lib/python3.11/site-packages/poke_env/ps_client/ps_client.py\", line 164, in _handle_message\n",
      "    raise ShowdownException(\"Error message received: %s\", message)\n",
      "poke_env.exceptions.ShowdownException: ('Error message received: %s', '|nametaken|random_1|Your authentication token was invalid.')\n"
     ]
    },
    {
     "name": "stderr",
     "output_type": "stream",
     "text": [
      "Task exception was never retrieved\n",
      "future: <Task finished name='Task-76' coro=<PSClient._handle_message() done, defined at /home/mauro/workspace/PK-AI/pk-ai/lib/python3.11/site-packages/poke_env/ps_client/ps_client.py:122> exception=ShowdownException('Error message received: %s', '|nametaken|random_1|Your authentication token was invalid.')>\n",
      "Traceback (most recent call last):\n",
      "  File \"/home/mauro/workspace/PK-AI/pk-ai/lib/python3.11/site-packages/poke_env/ps_client/ps_client.py\", line 191, in _handle_message\n",
      "    raise exception\n",
      "  File \"/home/mauro/workspace/PK-AI/pk-ai/lib/python3.11/site-packages/poke_env/ps_client/ps_client.py\", line 164, in _handle_message\n",
      "    raise ShowdownException(\"Error message received: %s\", message)\n",
      "poke_env.exceptions.ShowdownException: ('Error message received: %s', '|nametaken|random_1|Your authentication token was invalid.')\n"
     ]
    }
   ],
   "source": [
    "random_p1 = RandomPlayer(random_player_conf)"
   ]
  }
 ],
 "metadata": {
  "kernelspec": {
   "display_name": "pk-ai",
   "language": "python",
   "name": "python3"
  },
  "language_info": {
   "codemirror_mode": {
    "name": "ipython",
    "version": 3
   },
   "file_extension": ".py",
   "mimetype": "text/x-python",
   "name": "python",
   "nbconvert_exporter": "python",
   "pygments_lexer": "ipython3",
   "version": "3.11.2"
  }
 },
 "nbformat": 4,
 "nbformat_minor": 2
}
